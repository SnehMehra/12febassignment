{
 "cells": [
  {
   "cell_type": "raw",
   "id": "5087f6ec-e2ff-46aa-ab2b-516d973833d2",
   "metadata": {},
   "source": [
    "Q.1"
   ]
  },
  {
   "cell_type": "raw",
   "id": "2b40e9d3-0c31-41f0-9e4d-a5e6a47574e1",
   "metadata": {},
   "source": [
    "exceptions occur during the execution of a program when an error or exceptional condition arises, while syntax errors are detected during the parsing of the source code before the program is executed. Exceptions can be caught and handled using exception handling mechanisms, allowing the program to recover from errors, whereas syntax errors need to be fixed before the program can run successfully."
   ]
  },
  {
   "cell_type": "raw",
   "id": "99ee6361-402e-40e6-a4cd-8c7785d4d59c",
   "metadata": {},
   "source": [
    "Q.2"
   ]
  },
  {
   "cell_type": "raw",
   "id": "b11fc190-eb03-463e-b96e-e7e18d81f18e",
   "metadata": {},
   "source": [
    "\n",
    "When an exception is not handled, it results in an error being raised, which can lead to the termination of the program and the display of an error message. Let's look at an example to understand this scenario:"
   ]
  },
  {
   "cell_type": "code",
   "execution_count": 2,
   "id": "a7310ca1-93e1-4d03-a1c6-353b5471b97e",
   "metadata": {},
   "outputs": [
    {
     "ename": "ZeroDivisionError",
     "evalue": "division by zero",
     "output_type": "error",
     "traceback": [
      "\u001b[0;31m---------------------------------------------------------------------------\u001b[0m",
      "\u001b[0;31mZeroDivisionError\u001b[0m                         Traceback (most recent call last)",
      "Cell \u001b[0;32mIn[2], line 5\u001b[0m\n\u001b[1;32m      2\u001b[0m     result \u001b[38;5;241m=\u001b[39m a \u001b[38;5;241m/\u001b[39m b\n\u001b[1;32m      4\u001b[0m \u001b[38;5;66;03m# Example usage\u001b[39;00m\n\u001b[0;32m----> 5\u001b[0m \u001b[43mdivide_numbers\u001b[49m\u001b[43m(\u001b[49m\u001b[38;5;241;43m10\u001b[39;49m\u001b[43m,\u001b[49m\u001b[43m \u001b[49m\u001b[38;5;241;43m0\u001b[39;49m\u001b[43m)\u001b[49m\n",
      "Cell \u001b[0;32mIn[2], line 2\u001b[0m, in \u001b[0;36mdivide_numbers\u001b[0;34m(a, b)\u001b[0m\n\u001b[1;32m      1\u001b[0m \u001b[38;5;28;01mdef\u001b[39;00m \u001b[38;5;21mdivide_numbers\u001b[39m(a, b):\n\u001b[0;32m----> 2\u001b[0m     result \u001b[38;5;241m=\u001b[39m \u001b[43ma\u001b[49m\u001b[43m \u001b[49m\u001b[38;5;241;43m/\u001b[39;49m\u001b[43m \u001b[49m\u001b[43mb\u001b[49m\n",
      "\u001b[0;31mZeroDivisionError\u001b[0m: division by zero"
     ]
    }
   ],
   "source": [
    "def divide_numbers(a, b):\n",
    "    result = a / b\n",
    "\n",
    "# Example usage\n",
    "divide_numbers(10, 0)\n"
   ]
  },
  {
   "cell_type": "raw",
   "id": "b103a3f4-7a73-4a68-b06f-867031985bdd",
   "metadata": {},
   "source": [
    "Q.3"
   ]
  },
  {
   "cell_type": "raw",
   "id": "fdca119b-a7fa-4c36-a3c7-726b13d61a62",
   "metadata": {},
   "source": [
    "n Python, the try, except, else, and finally statements are used to catch and handle exceptions"
   ]
  },
  {
   "cell_type": "code",
   "execution_count": 1,
   "id": "51dd826d-0864-423b-ba00-65aecb9d253c",
   "metadata": {},
   "outputs": [
    {
     "name": "stdout",
     "output_type": "stream",
     "text": [
      "The division result is: 5.0\n",
      "This will always execute.\n",
      "Error: Division by zero is not allowed.\n",
      "This will always execute.\n"
     ]
    }
   ],
   "source": [
    "def divide_numbers(a, b):\n",
    "    try:\n",
    "        result = a / b\n",
    "    except ZeroDivisionError:\n",
    "        print(\"Error: Division by zero is not allowed.\")\n",
    "    else:\n",
    "        print(\"The division result is:\", result)\n",
    "    finally:\n",
    "        print(\"This will always execute.\")\n",
    "\n",
    "# Example usage\n",
    "divide_numbers(10, 2)\n",
    "divide_numbers(10, 0)\n"
   ]
  },
  {
   "cell_type": "raw",
   "id": "06aa9352-2f2c-45a2-b3a8-393f9ad9a5ae",
   "metadata": {},
   "source": [
    "Q.4"
   ]
  },
  {
   "cell_type": "raw",
   "id": "46017c83-ee54-4441-aa0f-88ef8858192e",
   "metadata": {},
   "source": [
    "The try block contains the code that might raise an exception. In this case, we perform the division a / b.\n",
    "If a ZeroDivisionError occurs during the division (i.e., when b is zero), the code inside the except block is executed. It prints an error message indicating that division by zero is not allowed.\n",
    "If no exception occurs during the division, the code inside the else block is executed. It prints the division result.\n",
    "The finally block is always executed, regardless of whether an exception was raised or not. It is typically used for cleanup or finalization tasks. In this example, it simply prints a message indicating that it will always execute.\n"
   ]
  },
  {
   "cell_type": "code",
   "execution_count": null,
   "id": "7f25adeb-7791-4ab7-ac99-19d2143ea8b6",
   "metadata": {},
   "outputs": [],
   "source": [
    "def divide_numbers(a,b):\n",
    "    try:\n",
    "        result=a/b\n",
    "    except(zerodivisionerror):\n",
    "        print(\"Error: Division by zero is not allowed.\")\n",
    "              \n",
    "    else:\n",
    "        print(\"division  result is\" , result)\n",
    "    finally:\n",
    "        print(\"this will always execute\")\n",
    "              \n",
    "        \n",
    "    "
   ]
  },
  {
   "cell_type": "markdown",
   "id": "dd9e00c5-cc60-4000-8ef7-37985d9f5023",
   "metadata": {},
   "source": [
    "Q.5"
   ]
  },
  {
   "cell_type": "raw",
   "id": "b598f35f-9ba1-42cf-af70-cc4f02d1f259",
   "metadata": {},
   "source": [
    "Custom exceptions in Python are user-defined exceptions that extend the built-in Exception class or its subclasses. They allow you to create specific exception types to handle and raise in your code, tailored to your application's needs.\n",
    "\n",
    "Here are a few reasons why custom exceptions are useful:\n",
    "\n",
    "Semantic clarity: Custom exceptions help improve the readability and maintainability of your code. By defining specific exception types, you can convey the intent and meaning of the exception more clearly. This makes it easier for other developers (including yourself) to understand the code and handle exceptions appropriately.\n",
    "Error handling: With custom exceptions, you can create different exception classes to represent various error conditions specific to your application or domain. This allows you to handle different types of errors differently, providing more granular error handling and recovery options.\n",
    "Modularity and extensibility: Custom exceptions enable you to encapsulate and modularize error handling logic. You can define exception classes that encapsulate specific error scenarios, making it easier to handle those scenarios in a centralized manner. Additionally, custom exceptions can be subclassed further, allowing you to create a hierarchy of exception types that can be extended and specialized as your application evolves.\n",
    "Exception chaining: Custom exceptions can include additional information or context about the error condition. By adding custom attributes or properties to your exception classes, you can provide more detailed information about the exception, aiding in troubleshooting and debugging."
   ]
  },
  {
   "cell_type": "raw",
   "id": "60aaf3d3-7f15-435a-b1d9-4255cfc46a2b",
   "metadata": {},
   "source": [
    "Q.6"
   ]
  },
  {
   "cell_type": "code",
   "execution_count": 1,
   "id": "2e925a6e-5eb4-425b-a291-a423e8e22fec",
   "metadata": {},
   "outputs": [
    {
     "name": "stdin",
     "output_type": "stream",
     "text": [
      "Enter your age:  -455\n"
     ]
    },
    {
     "name": "stdout",
     "output_type": "stream",
     "text": [
      "Entered age is negative\n"
     ]
    }
   ],
   "source": [
    "class ValidateAge(Exception):\n",
    "    def __init__(self, msg):\n",
    "        self.msg = msg\n",
    "def validate_age(age):\n",
    "    if age < 0:\n",
    "        raise ValidateAge(\"Entered age is negative\")\n",
    "    elif age > 200:\n",
    "        raise ValidateAge(\"Entered age is huge\")\n",
    "    else:\n",
    "\n",
    "        print(\"Age is valid\")\n",
    "try:\n",
    "    age = int(input(\"Enter your age: \"))\n",
    "    validate_age(age)\n",
    "except ValidateAge as e:\n",
    "    print(e)        "
   ]
  },
  {
   "cell_type": "code",
   "execution_count": null,
   "id": "37d8fc7c-7f9e-4e26-927b-5202bedb399d",
   "metadata": {},
   "outputs": [],
   "source": []
  }
 ],
 "metadata": {
  "kernelspec": {
   "display_name": "Python 3 (ipykernel)",
   "language": "python",
   "name": "python3"
  },
  "language_info": {
   "codemirror_mode": {
    "name": "ipython",
    "version": 3
   },
   "file_extension": ".py",
   "mimetype": "text/x-python",
   "name": "python",
   "nbconvert_exporter": "python",
   "pygments_lexer": "ipython3",
   "version": "3.10.8"
  }
 },
 "nbformat": 4,
 "nbformat_minor": 5
}
