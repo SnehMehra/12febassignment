{
 "cells": [
  {
   "cell_type": "markdown",
   "id": "8bdb3db2-aa09-4ce7-af2c-a2e181b8bb5b",
   "metadata": {},
   "source": [
    "Q.1"
   ]
  },
  {
   "cell_type": "markdown",
   "id": "9339541d-f4cd-45ac-8070-5089ccf6026b",
   "metadata": {},
   "source": [
    "exceptions occur during the execution of a program when an error or exceptional condition arises, while syntax errors are detected during the parsing of the source code before the program is executed. Exceptions can be caught and handled using exception handling mechanisms, allowing the program to recover from errors, whereas syntax errors need to be fixed before the program can run successfully."
   ]
  },
  {
   "cell_type": "markdown",
   "id": "09f2d990-07fb-4547-9c61-074fd9a7c9b2",
   "metadata": {},
   "source": [
    "Q.2"
   ]
  },
  {
   "cell_type": "markdown",
   "id": "bcefeeea-c409-4cb4-8dc0-0f38f7aa6e4d",
   "metadata": {},
   "source": [
    "\n",
    "When an exception is not handled, it results in an error being raised, which can lead to the termination of the program and the display of an error message. Let's look at an example to understand this scenario:"
   ]
  },
  {
   "cell_type": "code",
   "execution_count": 2,
   "id": "a7310ca1-93e1-4d03-a1c6-353b5471b97e",
   "metadata": {},
   "outputs": [
    {
     "ename": "ZeroDivisionError",
     "evalue": "division by zero",
     "output_type": "error",
     "traceback": [
      "\u001b[0;31m---------------------------------------------------------------------------\u001b[0m",
      "\u001b[0;31mZeroDivisionError\u001b[0m                         Traceback (most recent call last)",
      "Cell \u001b[0;32mIn[2], line 5\u001b[0m\n\u001b[1;32m      2\u001b[0m     result \u001b[38;5;241m=\u001b[39m a \u001b[38;5;241m/\u001b[39m b\n\u001b[1;32m      4\u001b[0m \u001b[38;5;66;03m# Example usage\u001b[39;00m\n\u001b[0;32m----> 5\u001b[0m \u001b[43mdivide_numbers\u001b[49m\u001b[43m(\u001b[49m\u001b[38;5;241;43m10\u001b[39;49m\u001b[43m,\u001b[49m\u001b[43m \u001b[49m\u001b[38;5;241;43m0\u001b[39;49m\u001b[43m)\u001b[49m\n",
      "Cell \u001b[0;32mIn[2], line 2\u001b[0m, in \u001b[0;36mdivide_numbers\u001b[0;34m(a, b)\u001b[0m\n\u001b[1;32m      1\u001b[0m \u001b[38;5;28;01mdef\u001b[39;00m \u001b[38;5;21mdivide_numbers\u001b[39m(a, b):\n\u001b[0;32m----> 2\u001b[0m     result \u001b[38;5;241m=\u001b[39m \u001b[43ma\u001b[49m\u001b[43m \u001b[49m\u001b[38;5;241;43m/\u001b[39;49m\u001b[43m \u001b[49m\u001b[43mb\u001b[49m\n",
      "\u001b[0;31mZeroDivisionError\u001b[0m: division by zero"
     ]
    }
   ],
   "source": [
    "def divide_numbers(a, b):\n",
    "    result = a / b\n",
    "\n",
    "# Example usage\n",
    "divide_numbers(10, 0)\n"
   ]
  },
  {
   "cell_type": "markdown",
   "id": "bfe14526-3e15-4b06-a71e-61c17f39d368",
   "metadata": {},
   "source": [
    "Q.3"
   ]
  },
  {
   "cell_type": "markdown",
   "id": "20a79dd1-e7d3-41e0-a6ca-45e49964f9e8",
   "metadata": {},
   "source": [
    "n Python, the try, except, else, and finally statements are used to catch and handle exceptions"
   ]
  },
  {
   "cell_type": "code",
   "execution_count": 1,
   "id": "51dd826d-0864-423b-ba00-65aecb9d253c",
   "metadata": {},
   "outputs": [
    {
     "name": "stdout",
     "output_type": "stream",
     "text": [
      "The division result is: 5.0\n",
      "This will always execute.\n",
      "Error: Division by zero is not allowed.\n",
      "This will always execute.\n"
     ]
    }
   ],
   "source": [
    "def divide_numbers(a, b):\n",
    "    try:\n",
    "        result = a / b\n",
    "    except ZeroDivisionError:\n",
    "        print(\"Error: Division by zero is not allowed.\")\n",
    "    else:\n",
    "        print(\"The division result is:\", result)\n",
    "    finally:\n",
    "        print(\"This will always execute.\")\n",
    "\n",
    "# Example usage\n",
    "divide_numbers(10, 2)\n",
    "divide_numbers(10, 0)\n"
   ]
  },
  {
   "cell_type": "markdown",
   "id": "8ffd6cb9-7758-41db-93b1-fd4a762197fd",
   "metadata": {},
   "source": [
    "Q.4"
   ]
  },
  {
   "cell_type": "markdown",
   "id": "0abf646a-c0df-4976-9981-e7aaaaf0b4dc",
   "metadata": {},
   "source": [
    "The try block contains the code that might raise an exception. In this case, we perform the division a / b.\n",
    "If a ZeroDivisionError occurs during the division (i.e., when b is zero), the code inside the except block is executed. It prints an error message indicating that division by zero is not allowed.\n",
    "If no exception occurs during the division, the code inside the else block is executed. It prints the division result.\n",
    "The finally block is always executed, regardless of whether an exception was raised or not. It is typically used for cleanup or finalization tasks. In this example, it simply prints a message indicating that it will always execute.\n"
   ]
  },
  {
   "cell_type": "code",
   "execution_count": null,
   "id": "7f25adeb-7791-4ab7-ac99-19d2143ea8b6",
   "metadata": {},
   "outputs": [],
   "source": [
    "def divide_numbers(a,b):\n",
    "    try:\n",
    "        result=a/b\n",
    "    except(zerodivisionerror):\n",
    "        print(\"Error: Division by zero is not allowed.\")\n",
    "              \n",
    "    else:\n",
    "        print(\"division  result is\" , result)\n",
    "    finally:\n",
    "        print(\"this will always execute\")\n",
    "              \n",
    "        \n",
    "    "
   ]
  },
  {
   "cell_type": "markdown",
   "id": "dd9e00c5-cc60-4000-8ef7-37985d9f5023",
   "metadata": {},
   "source": [
    "Q.5"
   ]
  },
  {
   "cell_type": "markdown",
   "id": "7a0a3caf-af7c-44ea-b216-3f04b7ebde28",
   "metadata": {},
   "source": [
    "Custom exceptions in Python are user-defined exceptions that extend the built-in Exception class or its subclasses. They allow you to create specific exception types to handle and raise in your code, tailored to your application's needs.\n",
    "\n",
    "Here are a few reasons why custom exceptions are useful:\n",
    "\n",
    "Semantic clarity: Custom exceptions help improve the readability and maintainability of your code. By defining specific exception types, you can convey the intent and meaning of the exception more clearly. This makes it easier for other developers (including yourself) to understand the code and handle exceptions appropriately.\n",
    "Error handling: With custom exceptions, you can create different exception classes to represent various error conditions specific to your application or domain. This allows you to handle different types of errors differently, providing more granular error handling and recovery options.\n",
    "Modularity and extensibility: Custom exceptions enable you to encapsulate and modularize error handling logic. You can define exception classes that encapsulate specific error scenarios, making it easier to handle those scenarios in a centralized manner. Additionally, custom exceptions can be subclassed further, allowing you to create a hierarchy of exception types that can be extended and specialized as your application evolves.\n",
    "Exception chaining: Custom exceptions can include additional information or context about the error condition. By adding custom attributes or properties to your exception classes, you can provide more detailed information about the exception, aiding in troubleshooting and debugging."
   ]
  },
  {
   "cell_type": "markdown",
   "id": "88f062c9-58e9-4cd9-b7f7-7509bb1e55b5",
   "metadata": {},
   "source": [
    "Q.6"
   ]
  },
  {
   "cell_type": "code",
   "execution_count": 1,
   "id": "2e925a6e-5eb4-425b-a291-a423e8e22fec",
   "metadata": {},
   "outputs": [
    {
     "name": "stdin",
     "output_type": "stream",
     "text": [
      "Enter your age:  -455\n"
     ]
    },
    {
     "name": "stdout",
     "output_type": "stream",
     "text": [
      "Entered age is negative\n"
     ]
    }
   ],
   "source": [
    "class ValidateAge(Exception):\n",
    "    def __init__(self, msg):\n",
    "        self.msg = msg\n",
    "def validate_age(age):\n",
    "    if age < 0:\n",
    "        raise ValidateAge(\"Entered age is negative\")\n",
    "    elif age > 200:\n",
    "        raise ValidateAge(\"Entered age is huge\")\n",
    "    else:\n",
    "\n",
    "        print(\"Age is valid\")\n",
    "try:\n",
    "    age = int(input(\"Enter your age: \"))\n",
    "    validate_age(age)\n",
    "except ValidateAge as e:\n",
    "    print(e)        "
   ]
  },
  {
   "cell_type": "code",
   "execution_count": null,
   "id": "37d8fc7c-7f9e-4e26-927b-5202bedb399d",
   "metadata": {},
   "outputs": [],
   "source": []
  }
 ],
 "metadata": {
  "kernelspec": {
   "display_name": "Python 3 (ipykernel)",
   "language": "python",
   "name": "python3"
  },
  "language_info": {
   "codemirror_mode": {
    "name": "ipython",
    "version": 3
   },
   "file_extension": ".py",
   "mimetype": "text/x-python",
   "name": "python",
   "nbconvert_exporter": "python",
   "pygments_lexer": "ipython3",
   "version": "3.10.8"
  }
 },
 "nbformat": 4,
 "nbformat_minor": 5
}
